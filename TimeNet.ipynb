{
  "nbformat": 4,
  "nbformat_minor": 0,
  "metadata": {
    "language_info": {
      "codemirror_mode": {
        "name": "ipython",
        "version": 3
      },
      "file_extension": ".py",
      "mimetype": "text/x-python",
      "name": "python",
      "nbconvert_exporter": "python",
      "pygments_lexer": "ipython3",
      "version": "3.9.6-final"
    },
    "orig_nbformat": 2,
    "kernelspec": {
      "name": "python38164bited96b589ab3a4e44868d42b4d4b3cbb4",
      "display_name": "Python 3.8.1 64-bit"
    },
    "colab": {
      "name": "TimeNet.ipynb",
      "provenance": [],
      "collapsed_sections": [],
      "include_colab_link": true
    },
    "accelerator": "GPU"
  },
  "cells": [
    {
      "cell_type": "markdown",
      "metadata": {
        "id": "view-in-github",
        "colab_type": "text"
      },
      "source": [
        "<a href=\"https://colab.research.google.com/github/BojanFaletic/research/blob/master/TimeNet.ipynb\" target=\"_parent\"><img src=\"https://colab.research.google.com/assets/colab-badge.svg\" alt=\"Open In Colab\"/></a>"
      ]
    },
    {
      "cell_type": "code",
      "metadata": {
        "colab": {
          "base_uri": "https://localhost:8080/"
        },
        "id": "pWBodQmRhSc5",
        "outputId": "8c074da5-4afb-4ee7-8cb9-3db368425be7"
      },
      "source": [
        "!pip install einops"
      ],
      "execution_count": 1,
      "outputs": [
        {
          "output_type": "stream",
          "text": [
            "Collecting einops\n",
            "  Downloading einops-0.3.0-py2.py3-none-any.whl (25 kB)\n",
            "Installing collected packages: einops\n",
            "Successfully installed einops-0.3.0\n"
          ],
          "name": "stdout"
        }
      ]
    },
    {
      "cell_type": "code",
      "metadata": {
        "id": "qWhytNbshJ4R"
      },
      "source": [
        "import torch\n",
        "import torch.nn as nn\n",
        "import torch.optim as optim\n",
        "from torch.optim.lr_scheduler import StepLR\n",
        "from torch.utils.data import DataLoader, TensorDataset\n",
        "\n",
        "import numpy as np\n",
        "from einops import rearrange\n",
        "import matplotlib.pyplot as plt"
      ],
      "execution_count": 2,
      "outputs": []
    },
    {
      "cell_type": "code",
      "metadata": {
        "id": "nAVXnkoIhJ4T"
      },
      "source": [
        "data = np.load('weak_data.npy')"
      ],
      "execution_count": 3,
      "outputs": []
    },
    {
      "cell_type": "code",
      "metadata": {
        "id": "0IuZaiQPhJ4T"
      },
      "source": [
        "s = rearrange(data, 'w d h -> (w d) h')"
      ],
      "execution_count": 4,
      "outputs": []
    },
    {
      "cell_type": "code",
      "metadata": {
        "id": "2Is90m5BhJ4U"
      },
      "source": [
        "class TimeNet(nn.Module):\n",
        "    def __init__(self, hr_inp=24):\n",
        "        super().__init__()\n",
        "        self.l = nn.LSTM(hr_inp, hr_inp, num_layers=2)\n",
        "        self.fc1 = nn.Linear(hr_inp, hr_inp)\n",
        "        self.fc2 = nn.Linear(hr_inp, 1)\n",
        "    \n",
        "    def forward(self, x):\n",
        "        x, _ = self.l(x)\n",
        "        x = self.fc1(x)\n",
        "        x = torch.relu(x)\n",
        "        x = self.fc2(x)\n",
        "        x = torch.sigmoid(x)\n",
        "        return x"
      ],
      "execution_count": 5,
      "outputs": []
    },
    {
      "cell_type": "code",
      "metadata": {
        "id": "L7eJDSZhhJ4U"
      },
      "source": [
        "s_flat = np.array([np.uint8(x>1) for x in s.flatten()])\n",
        "HR_DATA = (7*24)*1\n",
        "\n",
        "device = 'cuda' if torch.cuda.is_available() else 'cpu'\n",
        "net = TimeNet(HR_DATA)\n",
        "net = net.to(device)\n",
        "X = np.array([s_flat[i:i+HR_DATA] for i in range(len(s_flat[:-HR_DATA]))])\n",
        "Y = np.array( s_flat[HR_DATA:], dtype=np.uint8)\n",
        "\n",
        "X = X.reshape(-1, HR_DATA)\n",
        "Y = Y.reshape(-1, 1)\n",
        "\n",
        "x_sz = int(X.shape[0] * 0.8 )"
      ],
      "execution_count": 6,
      "outputs": []
    },
    {
      "cell_type": "code",
      "metadata": {
        "id": "fK2-ZFRWhJ4V"
      },
      "source": [
        "X_in = torch.Tensor(X[:x_sz])\n",
        "Y_in = torch.Tensor(Y[:x_sz])\n",
        "\n",
        "X_val = torch.Tensor(X[x_sz:])\n",
        "Y_val = torch.Tensor(Y[x_sz:])\n"
      ],
      "execution_count": 7,
      "outputs": []
    },
    {
      "cell_type": "code",
      "metadata": {
        "id": "obPAbcdL27Mm"
      },
      "source": [
        "d_set_val = TensorDataset(X_val, Y_val)\n",
        "d_set_train = TensorDataset(X_in, Y_in)\n",
        "\n",
        "dataloader_val = DataLoader(d_set_val, batch_size=8,\n",
        "                        shuffle=False, num_workers=0)\n",
        "\n",
        "dataloader_train = DataLoader(d_set_train, batch_size=8,\n",
        "                        shuffle=False, num_workers=0)"
      ],
      "execution_count": 8,
      "outputs": []
    },
    {
      "cell_type": "code",
      "metadata": {
        "id": "I44MeKid3KGi"
      },
      "source": [
        ""
      ],
      "execution_count": null,
      "outputs": []
    },
    {
      "cell_type": "code",
      "metadata": {
        "id": "V1eQ5JPuhJ4V"
      },
      "source": [
        ""
      ],
      "execution_count": 10,
      "outputs": []
    },
    {
      "cell_type": "code",
      "metadata": {
        "id": "ClOt3PJQhJ4W"
      },
      "source": [
        ""
      ],
      "execution_count": 10,
      "outputs": []
    },
    {
      "cell_type": "code",
      "metadata": {
        "id": "dchQWyuphJ4W"
      },
      "source": [
        "def test():\n",
        "    net.eval()   \n",
        "    err = 0\n",
        "    for i,(x, y) in enumerate(dataloader_val):\n",
        "        # prob out\n",
        "        x = x.expand(1, -1, HR_DATA)\n",
        "        x = x.to(device)\n",
        "        p_output = net(x)\n",
        "        yy = p_output.cpu().detach().numpy()\n",
        "        xx = y.numpy()\n",
        "        err += np.sum(np.abs(yy - xx) > 0.5)\n",
        "    err = err / np.prod(Y_val.shape)\n",
        "    print(f'Eval Acc: {(1-err)*100: .2f}%')"
      ],
      "execution_count": 11,
      "outputs": []
    },
    {
      "cell_type": "code",
      "metadata": {
        "colab": {
          "base_uri": "https://localhost:8080/"
        },
        "id": "3oaPPqPFhJ4X",
        "outputId": "2224c2e1-84b0-4a75-9d95-d7e0300b6a04"
      },
      "source": [
        "test()"
      ],
      "execution_count": 14,
      "outputs": [
        {
          "output_type": "stream",
          "text": [
            "Eval Acc:  77.19%\n"
          ],
          "name": "stdout"
        }
      ]
    },
    {
      "cell_type": "code",
      "metadata": {
        "id": "GG9qSYxRhJ4X"
      },
      "source": [
        "# save model\n",
        "torch.save(net, 'time_net.pth')\n",
        "net = torch.load('time_net.pth')"
      ],
      "execution_count": null,
      "outputs": []
    },
    {
      "cell_type": "code",
      "metadata": {
        "id": "8fUrBXAH2Pbw"
      },
      "source": [
        ""
      ],
      "execution_count": null,
      "outputs": []
    },
    {
      "cell_type": "code",
      "metadata": {
        "tags": [],
        "colab": {
          "base_uri": "https://localhost:8080/"
        },
        "id": "FjXxl4rWhJ4Y",
        "outputId": "b3665574-74ba-4233-d86f-6b012eb2639c"
      },
      "source": [
        "loss = nn.BCELoss()\n",
        "optimizer = optim.Adam(net.parameters(), lr=1e-3, weight_decay=1e-5, amsgrad=1)\n",
        "scheduler = StepLR(optimizer, 1, gamma=0.99)\n",
        "\n",
        "def train():   \n",
        "    for eps in range(20):\n",
        "        net.train()\n",
        "        err = 0\n",
        "        for i,(x,y) in enumerate(dataloader_train):\n",
        "            optimizer.zero_grad()\n",
        "\n",
        "            # prob out\n",
        "            x = x.expand(1, -1, HR_DATA).to(device)\n",
        "            p_output = net(x)\n",
        "\n",
        "            #p_output = p_output.squeeze(0)\n",
        "            y = y.expand(1, -1, 1).to(device)\n",
        "            \n",
        "            #print(p_output.shape, y.shape)\n",
        "            #print(p_output, y)\n",
        "\n",
        "            error = loss(p_output, y)\n",
        "            error.backward()\n",
        "            optimizer.step()\n",
        "            err += error.item()\n",
        "\n",
        "        #print(f'Eps: {eps}, Train Loss: {err : .2f}')\n",
        "        print(f\"Epoch: {eps}, Optimizer lr: {scheduler.get_last_lr()[0]:.2e}\")\n",
        "        test()\n",
        "        scheduler.step()\n",
        "train()\n",
        "\n"
      ],
      "execution_count": 20,
      "outputs": [
        {
          "output_type": "stream",
          "text": [
            "Epoch: 0, Optimizer lr: 1.00e-03\n",
            "Eval Acc:  79.98%\n",
            "Epoch: 1, Optimizer lr: 9.90e-04\n",
            "Eval Acc:  78.70%\n",
            "Epoch: 2, Optimizer lr: 9.80e-04\n",
            "Eval Acc:  78.63%\n",
            "Epoch: 3, Optimizer lr: 9.70e-04\n",
            "Eval Acc:  79.07%\n",
            "Epoch: 4, Optimizer lr: 9.61e-04\n",
            "Eval Acc:  79.20%\n",
            "Epoch: 5, Optimizer lr: 9.51e-04\n",
            "Eval Acc:  79.42%\n",
            "Epoch: 6, Optimizer lr: 9.41e-04\n",
            "Eval Acc:  79.32%\n",
            "Epoch: 7, Optimizer lr: 9.32e-04\n",
            "Eval Acc:  79.54%\n",
            "Epoch: 8, Optimizer lr: 9.23e-04\n",
            "Eval Acc:  79.04%\n",
            "Epoch: 9, Optimizer lr: 9.14e-04\n",
            "Eval Acc:  79.39%\n",
            "Epoch: 10, Optimizer lr: 9.04e-04\n",
            "Eval Acc:  78.88%\n",
            "Epoch: 11, Optimizer lr: 8.95e-04\n",
            "Eval Acc:  78.98%\n",
            "Epoch: 12, Optimizer lr: 8.86e-04\n",
            "Eval Acc:  79.61%\n",
            "Epoch: 13, Optimizer lr: 8.78e-04\n",
            "Eval Acc:  78.88%\n",
            "Epoch: 14, Optimizer lr: 8.69e-04\n",
            "Eval Acc:  79.14%\n",
            "Epoch: 15, Optimizer lr: 8.60e-04\n",
            "Eval Acc:  79.73%\n",
            "Epoch: 16, Optimizer lr: 8.51e-04\n",
            "Eval Acc:  79.01%\n",
            "Epoch: 17, Optimizer lr: 8.43e-04\n",
            "Eval Acc:  79.20%\n",
            "Epoch: 18, Optimizer lr: 8.35e-04\n",
            "Eval Acc:  79.73%\n",
            "Epoch: 19, Optimizer lr: 8.26e-04\n",
            "Eval Acc:  79.82%\n"
          ],
          "name": "stdout"
        }
      ]
    },
    {
      "cell_type": "code",
      "metadata": {
        "id": "za-LM6obhJ4Y"
      },
      "source": [
        "X_sim = X_val.reshape(-1, HR_DATA)\n",
        "Y_sim = Y_val.reshape(-1, 1)"
      ],
      "execution_count": 21,
      "outputs": []
    },
    {
      "cell_type": "code",
      "metadata": {
        "id": "dBklLMbLhJ4Z"
      },
      "source": [
        "out = np.array([np.round(net(x.expand(1,1,-1).to(device)).cpu().detach().numpy(), 2) for x in X_sim]).flatten()"
      ],
      "execution_count": 22,
      "outputs": []
    },
    {
      "cell_type": "code",
      "metadata": {
        "colab": {
          "base_uri": "https://localhost:8080/",
          "height": 299
        },
        "id": "svc5jOy7hJ4a",
        "outputId": "4b8ea4d6-f7ec-486e-d0f9-60fc615e4aff"
      },
      "source": [
        "O = 200\n",
        "L = 80\n",
        "t = np.arange(L)\n",
        "plt.plot(t, Y_sim[O:O+L], t, out[O:O+L])"
      ],
      "execution_count": 24,
      "outputs": [
        {
          "output_type": "execute_result",
          "data": {
            "text/plain": [
              "[<matplotlib.lines.Line2D at 0x7f562f6d3c10>,\n",
              " <matplotlib.lines.Line2D at 0x7f562ee3d6d0>]"
            ]
          },
          "metadata": {},
          "execution_count": 24
        },
        {
          "output_type": "display_data",
          "data": {
            "image/png": "[encoded data removed]",
            "text/plain": [
              "<Figure size 432x288 with 1 Axes>"
            ]
          },
          "metadata": {
            "needs_background": "light"
          }
        }
      ]
    },
    {
      "cell_type": "code",
      "metadata": {
        "id": "V6eETvcijt22"
      },
      "source": [
        ""
      ],
      "execution_count": null,
      "outputs": []
    }
  ]
}